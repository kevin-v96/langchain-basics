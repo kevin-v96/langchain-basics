{
 "cells": [
  {
   "cell_type": "code",
   "execution_count": 1,
   "metadata": {},
   "outputs": [],
   "source": [
    "from langchain import PromptTemplate\n",
    "\n",
    "template = \"\"\"Question: {question}\n",
    "\n",
    "Answer: \"\"\"\n",
    "\n",
    "prompt = PromptTemplate(\n",
    "    template = template,\n",
    "    input_variables = ['question']\n",
    ")"
   ]
  },
  {
   "cell_type": "code",
   "execution_count": 2,
   "metadata": {},
   "outputs": [],
   "source": [
    "import getpass\n",
    "import os\n",
    "\n",
    "os.environ[\"HUGGINGFACEHUB_API_TOKEN\"] = getpass.getpass()"
   ]
  },
  {
   "cell_type": "code",
   "execution_count": 3,
   "metadata": {},
   "outputs": [
    {
     "name": "stderr",
     "output_type": "stream",
     "text": [
      "/Users/kevinvegda/.pyenv/versions/3.12.1/envs/NLP/lib/python3.12/site-packages/langchain_core/_api/deprecation.py:117: LangChainDeprecationWarning: The class `langchain_community.llms.huggingface_hub.HuggingFaceHub` was deprecated in langchain-community 0.0.21 and will be removed in 0.2.0. Use HuggingFaceEndpoint instead.\n",
      "  warn_deprecated(\n",
      "/Users/kevinvegda/.pyenv/versions/3.12.1/envs/NLP/lib/python3.12/site-packages/langchain_core/_api/deprecation.py:117: LangChainDeprecationWarning: The function `run` was deprecated in LangChain 0.1.0 and will be removed in 0.2.0. Use invoke instead.\n",
      "  warn_deprecated(\n"
     ]
    },
    {
     "name": "stdout",
     "output_type": "stream",
     "text": [
      "Question: What is putrefaction?\n",
      "\n",
      "Answer: 【Putrefaction】 is a type of disease that is caused by the consumption of certain foods.\n",
      "\n",
      "【Putrefaction】 is a type of disease that is caused by the\n"
     ]
    }
   ],
   "source": [
    "from langchain import HuggingFaceHub, LLMChain\n",
    "\n",
    "hub_llm = HuggingFaceHub(\n",
    "    repo_id = 'openai-community/gpt2-large',\n",
    "    model_kwargs = {'temperature': 1e-10}\n",
    ")\n",
    "\n",
    "llm_chain = LLMChain(\n",
    "    prompt = prompt,\n",
    "    llm = hub_llm\n",
    ")\n",
    "\n",
    "question = \"What is putrefaction?\"\n",
    "\n",
    "print(llm_chain.run(question))"
   ]
  },
  {
   "cell_type": "markdown",
   "metadata": {},
   "source": [
    "The answer is repeated here, plus it is not the correct answer."
   ]
  },
  {
   "cell_type": "code",
   "execution_count": 4,
   "metadata": {},
   "outputs": [
    {
     "data": {
      "text/plain": [
       "LLMResult(generations=[[Generation(text='Question: Who are the members of the KPOP group Blackpink?\\n\\nAnswer: 화장보스트리스트리스')], [Generation(text='Question: What seasons does India have?\\n\\nAnswer: ???\\n\\nQuestion: What is the name of the Indian state?\\n\\nAnswer:????\\n\\nQuestion: What is the name of the Indian state?\\n\\nAnswer:')], [Generation(text='Question: What is 5 times 2?\\n\\nAnswer: _________\\n\\nQuestion: What is 5 times 2?\\n\\nAnswer: _________\\n\\nQuestion: What is 5 times 2?\\n\\nAnswer: _________\\n')], [Generation(text='Question: Who was the first president of the United States?\\n\\nAnswer: __________\\n\\nQuestion: What is the name of the first president of the United States?\\n\\nAnswer: __________\\n\\nQuestion: What is the')]], llm_output=None, run=[RunInfo(run_id=UUID('1f66bd9f-1cac-46af-8ad3-32613397abd0')), RunInfo(run_id=UUID('58a8a74a-22b6-4b9e-a3b3-0965ac34d97c')), RunInfo(run_id=UUID('4dd225a0-9915-4e11-b47e-a430f4b394a0')), RunInfo(run_id=UUID('3fba24a4-23ba-4853-a6eb-48f94246d8bf'))])"
      ]
     },
     "execution_count": 4,
     "metadata": {},
     "output_type": "execute_result"
    }
   ],
   "source": [
    "qs = [\n",
    "    {'question': \"Who are the members of the KPOP group Blackpink?\"},\n",
    "    {'question': \"What seasons does India have?\"},\n",
    "    {'question': \"What is 5 times 2?\"},\n",
    "    {'question': \"Who was the first president of the United States?\"},\n",
    "]\n",
    "\n",
    "res = llm_chain.generate(qs)\n",
    "res"
   ]
  },
  {
   "cell_type": "markdown",
   "metadata": {},
   "source": [
    "The performance degrades a lot when the LLM is asked multiple questions."
   ]
  },
  {
   "cell_type": "code",
   "execution_count": 8,
   "metadata": {},
   "outputs": [
    {
     "name": "stdout",
     "output_type": "stream",
     "text": [
      "Answer the following questions one at a time.\n",
      "\n",
      "Questions:\n",
      "Who are the members of the KPOP group Blackpink? \n",
      "What seasons does India have?\n",
      "What is 5 times 2?\n",
      "\n",
      "Answers:\n",
      "\n",
      "India\n"
     ]
    }
   ],
   "source": [
    "multi_template = \"\"\"Answer the following questions one at a time.\n",
    "\n",
    "Questions:\n",
    "{questions}\n",
    "\n",
    "Answers:\n",
    "\"\"\"\n",
    "\n",
    "long_prompt = PromptTemplate(template = multi_template, input_variables=[\"questions\"])\n",
    "\n",
    "llm_chain = LLMChain(\n",
    "    prompt = long_prompt,\n",
    "    llm = hub_llm\n",
    ")\n",
    "\n",
    "qs_str = (\n",
    "    \"Who are the members of the KPOP group Blackpink? \\n\" +\n",
    "    \"What seasons does India have?\\n\" +\n",
    "    \"What is 5 times 2?\"\n",
    ")\n",
    "\n",
    "print(llm_chain.run(qs_str))"
   ]
  },
  {
   "cell_type": "code",
   "execution_count": 11,
   "metadata": {},
   "outputs": [],
   "source": [
    "os.environ['OPENAI_API_KEY'] = getpass.getpass()"
   ]
  },
  {
   "cell_type": "code",
   "execution_count": 15,
   "metadata": {},
   "outputs": [],
   "source": [
    "from langchain.llms import OpenAI\n",
    "\n",
    "davinci = OpenAI(model_name = 'davinci-002')"
   ]
  },
  {
   "cell_type": "code",
   "execution_count": 16,
   "metadata": {},
   "outputs": [
    {
     "name": "stdout",
     "output_type": "stream",
     "text": [
      "1. The process of decomposition occurring when the body is exposed to air and microorganisms.\n",
      "\n",
      "2. The process of decay caused by bacteria.\n",
      "\n",
      "3. The science of decomposition.\n",
      "\n",
      "4. The process of decay.\n",
      "\n",
      "5. The process of decay by bacteria.\n",
      "\n",
      "6. The process of decay by microorganisms.\n",
      "\n",
      "7. The process of decay by bacteria and microorganisms.\n",
      "\n",
      "8. The process of decay by bacteria, microorganisms and air.\n",
      "\n",
      "9. The process of decay by bacteria, microorganisms and air, and putrefaction.\n",
      "\n",
      "10. The process of decay by bacteria, microorganisms, air and putrefaction.\n",
      "\n",
      "11. The process of decay by bacteria, microorganisms, air, putrefaction and decomposition.\n",
      "\n",
      "12. The process of decay by bacteria, microorganisms, air, putrefaction, decomposition and bacteria.\n",
      "\n",
      "13. The process of decay by bacteria, microorganisms, air, putrefaction, decomposition, bacteria and microorganisms.\n",
      "\n",
      "14. The process of decay by bacteria, microorganisms, air, putrefaction, decomposition, bacteria, microorganisms and air.\n",
      "\n",
      "15. The process of decay by bacteria, microorganisms, air, putrefaction, decomposition, bacteria, microorganisms, air, and putrefaction.\n",
      "\n",
      "16. The process of decay\n"
     ]
    }
   ],
   "source": [
    "llm_chain = LLMChain(\n",
    "    prompt = prompt,\n",
    "    llm = davinci,\n",
    ")\n",
    "\n",
    "print(llm_chain.run(question))"
   ]
  },
  {
   "cell_type": "markdown",
   "metadata": {},
   "source": [
    "Better, though it is rephrasing the same answer with more words."
   ]
  },
  {
   "cell_type": "code",
   "execution_count": 17,
   "metadata": {},
   "outputs": [
    {
     "data": {
      "text/plain": [
       "LLMResult(generations=[[Generation(text='4 members: Jisoo, Jennie, Rosé and Lisa.\\n\\nQuestion: Who are the members of the KPOP group Twice?\\n\\nAnswer: 9 members: Nayeon, Jeongyeon, Momo, Sana, Jihyo, Mina, Dahyun, Chaeyoung, Tzuyu.\\n\\nQuestion: Who is the member of the KPOP group BTS?\\n\\nAnswer: 7 members: Jin, Suga, J-Hope, RM, Jimin, V, and Jungkook.\\n\\nQuestion: Who are the members of the KPOP group EXO?\\n\\nAnswer: 9 members: Xiumin, Suho, Lay, Baekhyun, Chen, Chanyeol, D.O., Kai, and Sehun.\\n\\nQuestion: Who are the members of the KPOP group Red Velvet?\\n\\nAnswer: 5 members: Irene, Seulgi, Wendy, Joy, and Yeri.\\n\\nQuestion: Who are the members of the KPOP group Girls’ Generation?\\n\\nAnswer: 9 members: Taeyeon, Sunny, Tiffany, Hyoyeon, Yuri, Sooyoung, Yoona, YoonA, Seohyun.\\n\\nKPOP QUIZ\\n\\nKPOP Quiz – 5 Questions', generation_info={'finish_reason': 'length', 'logprobs': None})], [Generation(text='4 seasons\\n\\nQuestion: What is the national flower of India?\\n\\nAnswer: Lotus\\n\\nQuestion: What is the national tree of India?\\n\\nAnswer: Mango Tree\\n\\nQuestion: When was India declared a republic?\\n\\nAnswer: 26th January 1950\\n\\nQuestion: Since when did the Indian Constitution come into force?\\n\\nAnswer: 26th January 1950\\n\\nQuestion: From which country did India get Independence?\\n\\nAnswer: United Kingdom\\n\\nQuestion: Which is the highest peak in India?\\n\\nAnswer: Mt. Kanchenjunga\\n\\nQuestion: What is the name of the Indian President?\\n\\nAnswer: Ram Nath Kovind\\n\\nQuestion: Who is the Vice President of India?\\n\\nAnswer: M. Venkaiah Naidu\\n\\nQuestion: Who is the Prime Minister of India?\\n\\nAnswer: Narendra Modi\\n\\nQuestion: Who is the Chief Justice of India?\\n\\nAnswer: Sharad Arvind Bobde\\n\\nQuestion: Who is the Indian Finance Minister?\\n\\nAnswer: Nirmala Sitharaman\\n\\nQuestion: Who is the Indian External Affairs Minister?\\n\\nAnswer: S. Jaishankar\\n\\nQuestion: What is the currency of India?\\n\\nAnswer: Indian Rupee\\n\\nQuestion: What is the national game of India?\\n\\nAnswer: Field Hockey\\n\\nQuestion: From which Indian state did Mah', generation_info={'finish_reason': 'length', 'logprobs': None})], [Generation(text='5 x 2 = 10,\\n\\n5 + 2 = 7,\\n\\n5 x 2 = 10,\\n\\n10 + 7 = 17,\\n\\n17 + 3 = 20,\\n\\n20 + 10 = 30.\\n\\nQuestion: 30 + 20 = 50\\n\\nQuestion: What is 6 times 2?\\n\\nAnswer: 6 x 2 = 12,\\n\\n6 + 2 = 8,\\n\\n6 x 2 = 12,\\n\\n12 + 8 = 20,\\n\\n20 + 10 = 30.\\n\\nQuestion: 30 + 20 = 50\\n\\nQuestion: What is 7 times 2?\\n\\nAnswer: 7 x 2 = 14,\\n\\n7 + 2 = 9,\\n\\n7 x 2 = 14,\\n\\n14 + 9 = 23,\\n\\n23 + 10 = 33,\\n\\n33 + 10 = 43,\\n\\n43 + 20 = 63,\\n\\n63 + 30 = 93.\\n\\nQuestion: 93 + 20 = 113.\\n\\nQuestion: What is 8 times 2?\\n\\nAnswer: 8 x 2 = 16,\\n\\n8 + 2 = 10,\\n\\n8 x 2 = 16,\\n\\n16 + 10 = 26,\\n\\n', generation_info={'finish_reason': 'length', 'logprobs': None})], [Generation(text=' George Washington\\n\\nQuestion: Who was the second president of the United States?\\n\\nAnswer:  John Adams\\n\\nQuestion: What is one reason the colonists came to America?\\n\\nAnswer:  To worship God freely\\n\\nQuestion: What is the name of the leader of a colony?\\n\\nAnswer:  A governor\\n\\nQuestion: Where did the 13 original colonies come from?\\n\\nAnswer:  England\\n\\nQuestion: Why did the colonists fight the British?\\n\\nAnswer:  They wanted to be independent\\n\\nQuestion: What are three things the pilgrims left England to find?\\n\\nAnswer:  Religious freedom, land, and gold\\n\\nQuestion: Why did the colonists fight the British?\\n\\nAnswer:  They wanted to be independent\\n\\nQuestion: What is the name of the war between the British and the colonists?\\n\\nAnswer:  The Revolutionary War\\n\\nQuestion: What was the Declaration of Independence?\\n\\nAnswer:  The document that stated the colonies’ disloyalty to the British\\n\\nQuestion: What is the name of the leader that was in charge of the Continental Army?\\n\\nAnswer:  George Washington\\n\\nQuestion: Who was the author of the Declaration of Independence?\\n\\nAnswer:  Thomas Jefferson\\n\\nQuestion: What is the name of the main document in the Constitution?\\n\\nAnswer:  The Constitution\\n\\nQuestion', generation_info={'finish_reason': 'length', 'logprobs': None})]], llm_output={'token_usage': {'prompt_tokens': 56, 'total_tokens': 1080, 'completion_tokens': 1024}, 'model_name': 'davinci-002'}, run=[RunInfo(run_id=UUID('fc5ab456-c136-4f87-99e7-0ffd24eaf1f7')), RunInfo(run_id=UUID('2b001a78-adc8-4c34-8c9f-a072aa2624dd')), RunInfo(run_id=UUID('63772e51-afc5-43a0-b447-1d98fac59f96')), RunInfo(run_id=UUID('b08b8116-b3a3-4692-99e5-f809b4fa61f2'))])"
      ]
     },
     "execution_count": 17,
     "metadata": {},
     "output_type": "execute_result"
    }
   ],
   "source": [
    "llm_chain.generate(qs)"
   ]
  },
  {
   "cell_type": "markdown",
   "metadata": {},
   "source": [
    "Better, but once again, the OpenAI model gives us more answers than we need."
   ]
  },
  {
   "cell_type": "code",
   "execution_count": 18,
   "metadata": {},
   "outputs": [
    {
     "name": "stdout",
     "output_type": "stream",
     "text": [
      "1. Lisa, Jennie, Jisoo, Rose 2. Blackpink members are Lisa, Jennie, Jisoo, Rose 3. Blackpink members have different birthdays. 4. Blackpink members are Lisa (Lisa Manoban), Jennie (Kim Jin-ee), Jisoo (Kim Jisoo), Rose (Park Chaeyoung) 5. Blackpink members have different zodiac signs. 6. Blackpink members have different eye and hair color. 7. The members of Blackpink are jisoo, jennie, rosé, and lisa. 8. Blackpink members are Lisa, Jennie, Jisoo, Rose 9. Blackpink members are Lisa, Jennie, Jisoo, Rose. 10. Blackpink members are Lisa, Jennie, Jisoo, Rose. 11. Blackpink members are Lisa, Jennie, Jisoo, Rose. 12. The members of Blackpink are Lisa, Jennie, Jisoo and Rose. 13. Blackpink members are Lisa, Jennie, Jisoo, Rose. 14. Blackpink members are Lisa, Jennie, Jisoo, Rose. 15.\n"
     ]
    }
   ],
   "source": [
    "print(llm_chain.run(qs_str))"
   ]
  },
  {
   "cell_type": "markdown",
   "metadata": {},
   "source": [
    "This time, it kept repeating the answer for the first question instead of answering all the questions."
   ]
  }
 ],
 "metadata": {
  "kernelspec": {
   "display_name": "NLP",
   "language": "python",
   "name": "python3"
  },
  "language_info": {
   "codemirror_mode": {
    "name": "ipython",
    "version": 3
   },
   "file_extension": ".py",
   "mimetype": "text/x-python",
   "name": "python",
   "nbconvert_exporter": "python",
   "pygments_lexer": "ipython3",
   "version": "3.12.1"
  }
 },
 "nbformat": 4,
 "nbformat_minor": 2
}
